{
  "cells": [
    {
      "cell_type": "code",
      "source": [
        "#import important  libraries\n",
        "import random\n",
        "import re\n",
        "\n",
        "#load json file\n",
        "def load_json(file):\n",
        "    with open(file) as bot_respons:\n",
        "        print(f\"loaded '{file}' successfully\")\n",
        "        return json.load(bot_respons)\n",
        "\n",
        "# load dataset\n",
        "data_set = load_json(\"chat_bot.json\")\n",
        "\n",
        "# build our chatbot\n",
        "def forward_response(string):\n",
        "    message = re.split(r'\\s+|[,;?!.-]\\s*', string.lower())\n",
        "    score_list = []\n",
        "\n",
        "    for data_item in data_set:\n",
        "        response = 0\n",
        "        required = 0\n",
        "        required_words = data_item[\"required_words\"]\n",
        "\n",
        "        if required_words:\n",
        "            for word in message:\n",
        "                if word in required_words:\n",
        "                    required += 1\n",
        "\n",
        "        if required == len(required_words):\n",
        "            for word in message:\n",
        "                if word in data_item[\"user_input\"]:\n",
        "                    response += 1\n",
        "\n",
        "        score_list.append(response)\n",
        "\n",
        "    final_response = max(score_list)\n",
        "    index = score_list.index(final_response)\n",
        "\n",
        "    if string == \"\":\n",
        "        return \"Please write specific words\"\n",
        "\n",
        "    if final_response != 0:\n",
        "        return data_set[index][\"bot_response\"]\n",
        "\n",
        "    if final_response != 0:\n",
        "        return data_set[index][\"bot_response\"]\n",
        "\n",
        "    return random_responses.random_string()\n",
        "\n",
        "# test and see results\n",
        "while True:\n",
        "    input_q = input(\"You: \")\n",
        "    if input_q.lower() in [\"exit\", \"quit\"]:\n",
        "        break\n",
        "    print(\"Bot: \", forward_response(input_q))"
      ],
      "metadata": {
        "colab": {
          "base_uri": "https://localhost:8080/"
        },
        "id": "QpOGQa-jN_E4",
        "outputId": "31406236-8fd5-4fc4-d270-01b9ca31912a"
      },
      "execution_count": null,
      "outputs": [
        {
          "metadata": {
            "tags": null
          },
          "name": "stdout",
          "output_type": "stream",
          "text": [
            "loaded 'chat_bot.json' successfully\n",
            "Bot:  Hey there!\n",
            "Bot:  The pleasure is all mine!\n",
            "Bot:  I'm great! Thanks for asking.\n",
            "Bot:  Start by typing: 'How to learn coding' on Google.\n",
            "Bot:  i don't know \n",
            "Bot:  See you later!\n"
          ]
        }
      ]
    }
  ],
  "metadata": {
    "colab": {
      "name": "Welcome To Colaboratory",
      "provenance": []
    },
    "kernelspec": {
      "display_name": "Python 3",
      "name": "python3"
    }
  },
  "nbformat": 4,
  "nbformat_minor": 0
}