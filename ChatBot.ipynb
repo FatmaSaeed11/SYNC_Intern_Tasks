{
  "cells": [
    {
      "cell_type": "code",
      "source": [
        "#response function\n",
        "import random\n",
        "def random_string():\n",
        "    random_list = [\n",
        "        \"Please try writing something more descriptive.\",\n",
        "        \"Oh! It appears you wrote something I don't understand yet\",\n",
        "        \"Do you mind trying to rephrase that?\",\n",
        "        \"I'm terribly sorry, I didn't quite catch that.\",\n",
        "        \"I can't answer that yet, please try asking something else.\"\n",
        "    ]\n",
        "\n",
        "    list_count = len(random_list)\n",
        "    random_item = random.randrange(list_count)\n",
        "\n",
        "    return random_list[random_item]\n"
      ],
      "metadata": {
        "id": "lIOen6EtoJKZ"
      },
      "execution_count": null,
      "outputs": []
    },
    {
      "cell_type": "code",
      "source": [
        "#import important  libraries\n",
        "import random\n",
        "import re\n",
        "\n",
        "#load json file\n",
        "def load_json(file):\n",
        "    with open(file) as bot_respons:\n",
        "        print(f\"loaded '{file}' successfully\")\n",
        "        return json.load(bot_respons)\n",
        "\n",
        "# load dataset\n",
        "data_set = load_json(\"chat_bot.json\")\n",
        "\n",
        "# build our chatbot\n",
        "def forward_response(string):\n",
        "    message = re.split(r'\\s+|[,;?!.-]\\s*', string.lower())\n",
        "    score_list = []\n",
        "\n",
        "    for data_item in data_set:\n",
        "        response = 0\n",
        "        required = 0\n",
        "        required_words = data_item[\"required_words\"]\n",
        "\n",
        "        if required_words:\n",
        "            for word in message:\n",
        "                if word in required_words:\n",
        "                    required += 1\n",
        "\n",
        "        if required == len(required_words):\n",
        "            for word in message:\n",
        "                if word in data_item[\"user_input\"]:\n",
        "                    response += 1\n",
        "\n",
        "        score_list.append(response)\n",
        "\n",
        "    final_response = max(score_list)\n",
        "    index = score_list.index(final_response)\n",
        "\n",
        "    if string == \"\":\n",
        "        return \"Please write specific words\"\n",
        "\n",
        "    if final_response != 0:\n",
        "        return data_set[index][\"bot_response\"]\n",
        "\n",
        "    if final_response != 0:\n",
        "        return data_set[index][\"bot_response\"]\n",
        "\n",
        "    return responses.random_string()\n",
        "\n",
        "# test and see results\n",
        "while True:\n",
        "    input_q = input(\"You: \")\n",
        "    if input_q.lower() in [\"exit\", \"quit\"]:\n",
        "        break\n",
        "    print(\"Bot: \", forward_response(input_q))"
      ],
      "metadata": {
        "id": "Eez07xjxsUZM",
        "colab": {
          "base_uri": "https://localhost:8080/"
        },
        "outputId": "e6cbda02-7b5c-46b1-e71e-8215bda265fc"
      },
      "execution_count": null,
      "outputs": [
        {
          "output_type": "stream",
          "name": "stdout",
          "text": [
            "loaded 'chat_bot.json' successfully\n",
            "You: hi\n",
            "Bot:  Hey there!\n",
            "You: no\n",
            "Bot:  I can't answer that yet, please try asking something else.\n",
            "You: how are you\n",
            "Bot:  I'm great! Thanks for asking.\n",
            "You: can you help me \n",
            "Bot:  Do you mind trying to rephrase that?\n",
            "You: what about you\n",
            "Bot:  I can't answer that yet, please try asking something else.\n",
            "You: nice to meet you\n",
            "Bot:  The pleasure is all mine!\n",
            "You: how can i get mony\n",
            "Bot:  Do you mind trying to rephrase that?\n",
            "You: how to learn coding\n",
            "Bot:  Oh! It appears you wrote something I don't understand yet\n",
            "You: hey\n",
            "Bot:  Hey there!\n",
            "You: how  can i get my bag\n",
            "Bot:  I'm terribly sorry, I didn't quite catch that.\n",
            "You: nice to meet you\n",
            "Bot:  The pleasure is all mine!\n",
            "You: how are you\n",
            "Bot:  I'm great! Thanks for asking.\n",
            "You: bye\n",
            "Bot:  See you later!\n",
            "You: goodbye\n",
            "Bot:  See you later!\n"
          ]
        }
      ]
    }
  ],
  "metadata": {
    "colab": {
      "provenance": []
    },
    "kernelspec": {
      "display_name": "Python 3",
      "name": "python3"
    }
  },
  "nbformat": 4,
  "nbformat_minor": 0
}